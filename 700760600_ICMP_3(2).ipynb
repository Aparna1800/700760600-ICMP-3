{
  "nbformat": 4,
  "nbformat_minor": 0,
  "metadata": {
    "colab": {
      "provenance": []
    },
    "kernelspec": {
      "name": "python3",
      "display_name": "Python 3"
    },
    "language_info": {
      "name": "python"
    }
  },
  "cells": [
    {
      "cell_type": "code",
      "execution_count": 1,
      "metadata": {
        "colab": {
          "base_uri": "https://localhost:8080/"
        },
        "id": "uj8bkFnJ3KSI",
        "outputId": "1314cb01-3fb3-45b6-ec3e-85a00715d20d"
      },
      "outputs": [
        {
          "output_type": "stream",
          "name": "stdout",
          "text": [
            "[[ 9.95854166  4.24025084  9.27866648  0.         10.87486538]\n",
            " [ 6.58887941  9.08720709  0.          3.67671123 13.65612451]\n",
            " [18.14986991 16.89837327  8.1228144  11.86297309  0.        ]\n",
            " [ 0.          2.9089018  16.79040963  3.55358712 14.12544798]]\n"
          ]
        }
      ],
      "source": [
        "# 2. Numpy\n",
        "# Using NumPy create random vector of size 20 having only float in the range 1-20.\n",
        "# Then reshape the array to 4 by 5\n",
        "# Then replace the max in each row by 0 (axis=1)\n",
        "# (you can NOT implement it via for loop)\n",
        "\n",
        "import numpy as np\n",
        "\n",
        "# Create random vector of size 20 with floats between 1 and 20\n",
        "vec = np.random.uniform(1, 20, 20)\n",
        "\n",
        "# Reshape the vector to 4 by 5\n",
        "mat = vec.reshape(4, 5)\n",
        "\n",
        "# Replace the max in each row by 0\n",
        "mat[np.arange(4), mat.argmax(axis=1)] = 0\n",
        "\n",
        "# Print output\n",
        "print(mat)"
      ]
    }
  ]
}