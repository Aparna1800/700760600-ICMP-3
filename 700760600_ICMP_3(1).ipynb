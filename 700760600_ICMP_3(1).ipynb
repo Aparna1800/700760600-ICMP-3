{
  "nbformat": 4,
  "nbformat_minor": 0,
  "metadata": {
    "colab": {
      "provenance": []
    },
    "kernelspec": {
      "name": "python3",
      "display_name": "Python 3"
    },
    "language_info": {
      "name": "python"
    }
  },
  "cells": [
    {
      "cell_type": "code",
      "execution_count": 1,
      "metadata": {
        "colab": {
          "base_uri": "https://localhost:8080/"
        },
        "id": "zg4MOCwQ10Ef",
        "outputId": "ca47b0d4-5128-497c-e6ea-7eeeee7b7fd9"
      },
      "outputs": [
        {
          "output_type": "stream",
          "name": "stdout",
          "text": [
            "37000.0\n",
            "37000.0\n",
            "4\n"
          ]
        }
      ],
      "source": [
        "# 1. Create a class Employee and then do the following\n",
        "# • Create a data member to count the number of Employees\n",
        "# • Create a constructor to initialize name, family, salary, department\n",
        "# • Create a function to average salary\n",
        "# • Create a Fulltime Employee class and it should inherit the properties of Employee class\n",
        "# • Create the instances of Fulltime Employee class and Employee class and call their member functions.\n",
        "\n",
        "# Create class as Employee\n",
        "class Employee:\n",
        "  emp_count = 0\n",
        "\n",
        "# Declaration and initialization of constructor\n",
        "  def __init__(self, name, family, salary, department):\n",
        "\n",
        "        self.name = name\n",
        "        self.family = family\n",
        "        self.salary = salary\n",
        "        self.department = department\n",
        "        Employee.emp_count = Employee.emp_count + 1\n",
        "\n",
        "# Create function as avg_saal\n",
        "  def avg_sal(self, emps):\n",
        "      sum_sal = 0\n",
        "      for i in emps:\n",
        "            sum_sal= sum_sal+ i.salary\n",
        "\n",
        "# Print output\n",
        "      print(sum_sal/len(emps))\n",
        "\n",
        "# Create class as Fulltime_Employee\n",
        "class Fulltime_Employee(Employee):\n",
        "\n",
        "      def __init__(self, name, family, salary, department):\n",
        "         Employee.__init__(self, name, family, salary, department)\n",
        "\n",
        "list = []\n",
        "list.append(Employee('Jamielannister', 'Joffrey', 30000, 'Accounts'))\n",
        "list.append(Employee('Branstark', 'Emiliaclarke', 45000, 'Salesforce'))\n",
        "\n",
        "list.append(Fulltime_Employee('Johnsnow', 'Arrya', 23000, 'Architectutre'))\n",
        "list.append(Fulltime_Employee('Sophie', 'Robb', 50000, 'Management'))\n",
        "\n",
        "list[0].avg_sal(list)\n",
        "list[2].avg_sal(list)\n",
        "\n",
        "# Print output as employee count\n",
        "print(Employee.emp_count)"
      ]
    }
  ]
}